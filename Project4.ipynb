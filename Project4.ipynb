{
  "metadata": {
    "kernelspec": {
      "name": "python",
      "display_name": "Python (Pyodide)",
      "language": "python"
    },
    "language_info": {
      "codemirror_mode": {
        "name": "python",
        "version": 3
      },
      "file_extension": ".py",
      "mimetype": "text/x-python",
      "name": "python",
      "nbconvert_exporter": "python",
      "pygments_lexer": "ipython3",
      "version": "3.8"
    }
  },
  "nbformat_minor": 4,
  "nbformat": 4,
  "cells": [
    {
      "cell_type": "markdown",
      "source": "## Project 4 - Predictive Analysis using scikit-learn\nAdama Konate - IS 362",
      "metadata": {}
    },
    {
      "cell_type": "markdown",
      "source": "Task: \n- Start with the mushroom data in the pandas DataFrame that you constructed in your “Assignment – Preprocessing Data with sci-kit learn.”\n- Use scikit-learn to determine which of the two predictor columns that you selected (odor and one other column of your choice) most accurately predicts whether or not a mushroom is poisonous. There is an additional challenge here—to use scikit-learn’s predictive classifiers, you’ll want to convert each of your two (numeric categorical) predictor columns into a set of columns. See for one approach pandas get_dummies() method.\n- Clearly state your conclusions along with any recommendations for further analysis.",
      "metadata": {}
    },
    {
      "cell_type": "code",
      "source": "# Importing required modules\nimport numpy as np\nimport pandas as pd\nfrom matplotlib import pyplot as plt\nimport seaborn as sns\nimport sklearn.model_selection\nfrom sklearn import metrics\nfrom sklearn.linear_model import LinearRegression\nfrom sklearn.model_selection import train_test_split as ttsplit\n\n%matplotlib inline",
      "metadata": {},
      "execution_count": 19,
      "outputs": []
    },
    {
      "cell_type": "markdown",
      "source": "Attribute Information:\n1. **cap-shape**:                bell=b,conical=c,convex=x,flat=f,                                                knobbed=k,sunken=s\n2. **cap-surface**:              fibrous=f,grooves=g,scaly=y,smooth=s\n3. **cap-color**:                brown=n,buff=b,cinnamon=c,gray=g,green=r,                                        pink=p,purple=u,red=e,white=w,yellow=y\n4. **bruises?**:                 bruises=t,no=f\n5. **odor**:                     almond=a,anise=l,creosote=c,fishy=y,foul=f, musty=m,none=n,pungent=p,spicy=s\n6. **gill-attachment**:          attached=a,descending=d,free=f,notched=n\n7. **gill-spacing**:             close=c,crowded=w,distant=d\n8. **gill-size**:                broad=b,narrow=n\n9. **gill-color**:               black=k,brown=n,buff=b,chocolate=h,gray=g, green=r,orange=o,pink=p,purple=u,red=e,white=w,yellow=y\n10. **stalk-shape**:             enlarging=e,tapering=t\n11. **stalk-root**:              bulbous=b,club=c,cup=u,equal=e, rhizomorphs=z,rooted=r,missing=?\n12. **stalk-surface-above-ring**:fibrous=f,scaly=y,silky=k,smooth=s\n13. **stalk-surface-below-ring**:fibrous=f,scaly=y,silky=k,smooth=s\n14. **stalk-color-above-ring**:  brown=n,buff=b,cinnamon=c,gray=g,orange=o, pink=p,red=e,white=w,yellow=y\n15. **stalk-color-below-ring**:  brown=n,buff=b,cinnamon=c,gray=g,orange=o, pink=p,red=e,white=w,yellow=y\n16. **veil-type**:               partial=p,universal=u\n17. **veil-color**:              brown=n,orange=o,white=w,yellow=y\n18. **ring-number**:             none=n,one=o,two=t\n19. **ring-type**:               cobwebby=c,evanescent=e,flaring=f,large=l, none=n,pendant=p,sheathing=s,zone=z\n20. **spore-print-color**:       black=k,brown=n,buff=b,chocolate=h,green=r, orange=o,purple=u,white=w,yellow=y\n21. **population**:              abundant=a,clustered=c,numerous=n, scattered=s,several=v,solitary=y\n22. **habitat**:                 grasses=g,leaves=l,meadows=m,paths=p, urban=u,waste=w,woods=d\n\n",
      "metadata": {}
    },
    {
      "cell_type": "code",
      "source": "#Reading CSV and converting to dataframe\ndata = pd.read_csv('https://archive.ics.uci.edu/ml/machine-learning-databases/mushroom/agaricus-lepiota.data', \n                  sep = ',', \n                  header = None, \n                  usecols = [0,3,5], \n                  names = [\"Mushroom_Class\", \"Cap_Color\", \"Odor\"])\ndata.head(5)",
      "metadata": {},
      "execution_count": 20,
      "outputs": [
        {
          "execution_count": 20,
          "output_type": "execute_result",
          "data": {
            "text/html": [
              "<div>\n",
              "<style scoped>\n",
              "    .dataframe tbody tr th:only-of-type {\n",
              "        vertical-align: middle;\n",
              "    }\n",
              "\n",
              "    .dataframe tbody tr th {\n",
              "        vertical-align: top;\n",
              "    }\n",
              "\n",
              "    .dataframe thead th {\n",
              "        text-align: right;\n",
              "    }\n",
              "</style>\n",
              "<table border=\"1\" class=\"dataframe\">\n",
              "  <thead>\n",
              "    <tr style=\"text-align: right;\">\n",
              "      <th></th>\n",
              "      <th>Mushroom_Class</th>\n",
              "      <th>Cap_Color</th>\n",
              "      <th>Odor</th>\n",
              "    </tr>\n",
              "  </thead>\n",
              "  <tbody>\n",
              "    <tr>\n",
              "      <th>0</th>\n",
              "      <td>p</td>\n",
              "      <td>n</td>\n",
              "      <td>p</td>\n",
              "    </tr>\n",
              "    <tr>\n",
              "      <th>1</th>\n",
              "      <td>e</td>\n",
              "      <td>y</td>\n",
              "      <td>a</td>\n",
              "    </tr>\n",
              "    <tr>\n",
              "      <th>2</th>\n",
              "      <td>e</td>\n",
              "      <td>w</td>\n",
              "      <td>l</td>\n",
              "    </tr>\n",
              "    <tr>\n",
              "      <th>3</th>\n",
              "      <td>p</td>\n",
              "      <td>w</td>\n",
              "      <td>p</td>\n",
              "    </tr>\n",
              "    <tr>\n",
              "      <th>4</th>\n",
              "      <td>e</td>\n",
              "      <td>g</td>\n",
              "      <td>n</td>\n",
              "    </tr>\n",
              "  </tbody>\n",
              "</table>\n",
              "</div>"
            ],
            "text/plain": [
              "  Mushroom_Class Cap_Color Odor\n",
              "0              p         n    p\n",
              "1              e         y    a\n",
              "2              e         w    l\n",
              "3              p         w    p\n",
              "4              e         g    n"
            ]
          },
          "metadata": {}
        }
      ]
    },
    {
      "cell_type": "code",
      "source": "## Converting data to numeric values\ndata.replace(to_replace={\"Mushroom_Class\":{'p':1, 'e':0}}, inplace = True)\ndata.replace(to_replace={\"Cap_Color\":{'n':0, 'b':1, 'c':2, 'g':3, 'r':4, 'p':5, 'u':6, 'e':7, 'w':8, 'y':9}}, inplace=True)\ndata.replace(to_replace={\"Odor\":{'a':0, 'l':1, 'c':2, 'y':3, 'f':4, 'm':5, 'n':6, 'p':7, 's':8}}, inplace=True)\ndata.head(5)",
      "metadata": {},
      "execution_count": 21,
      "outputs": [
        {
          "execution_count": 21,
          "output_type": "execute_result",
          "data": {
            "text/html": [
              "<div>\n",
              "<style scoped>\n",
              "    .dataframe tbody tr th:only-of-type {\n",
              "        vertical-align: middle;\n",
              "    }\n",
              "\n",
              "    .dataframe tbody tr th {\n",
              "        vertical-align: top;\n",
              "    }\n",
              "\n",
              "    .dataframe thead th {\n",
              "        text-align: right;\n",
              "    }\n",
              "</style>\n",
              "<table border=\"1\" class=\"dataframe\">\n",
              "  <thead>\n",
              "    <tr style=\"text-align: right;\">\n",
              "      <th></th>\n",
              "      <th>Mushroom_Class</th>\n",
              "      <th>Cap_Color</th>\n",
              "      <th>Odor</th>\n",
              "    </tr>\n",
              "  </thead>\n",
              "  <tbody>\n",
              "    <tr>\n",
              "      <th>0</th>\n",
              "      <td>1</td>\n",
              "      <td>0</td>\n",
              "      <td>7</td>\n",
              "    </tr>\n",
              "    <tr>\n",
              "      <th>1</th>\n",
              "      <td>0</td>\n",
              "      <td>9</td>\n",
              "      <td>0</td>\n",
              "    </tr>\n",
              "    <tr>\n",
              "      <th>2</th>\n",
              "      <td>0</td>\n",
              "      <td>8</td>\n",
              "      <td>1</td>\n",
              "    </tr>\n",
              "    <tr>\n",
              "      <th>3</th>\n",
              "      <td>1</td>\n",
              "      <td>8</td>\n",
              "      <td>7</td>\n",
              "    </tr>\n",
              "    <tr>\n",
              "      <th>4</th>\n",
              "      <td>0</td>\n",
              "      <td>3</td>\n",
              "      <td>6</td>\n",
              "    </tr>\n",
              "  </tbody>\n",
              "</table>\n",
              "</div>"
            ],
            "text/plain": [
              "   Mushroom_Class  Cap_Color  Odor\n",
              "0               1          0     7\n",
              "1               0          9     0\n",
              "2               0          8     1\n",
              "3               1          8     7\n",
              "4               0          3     6"
            ]
          },
          "metadata": {}
        }
      ]
    },
    {
      "cell_type": "code",
      "source": "# Counting edible and poisionus mushrooms\ncount = data['Mushroom_Class'].value_counts()\ncount",
      "metadata": {},
      "execution_count": 22,
      "outputs": [
        {
          "execution_count": 22,
          "output_type": "execute_result",
          "data": {
            "text/plain": [
              "0    4208\n",
              "1    3916\n",
              "Name: Mushroom_Class, dtype: int64"
            ]
          },
          "metadata": {}
        }
      ]
    },
    {
      "cell_type": "code",
      "source": "# Converting two predictor into dummy variables\nm_color = pd.Series(data['Cap_Color'])\nc = pd.get_dummies(m_color)\n\nodor = pd.Series(data['Odor'])\no = pd.get_dummies(odor)\n\n# Combining both into a new column\nmushroom_data = pd.concat([c, o, data['Mushroom_Class']], axis = 1)\n\nmushroom_data.head(5)",
      "metadata": {},
      "execution_count": 23,
      "outputs": [
        {
          "execution_count": 23,
          "output_type": "execute_result",
          "data": {
            "text/html": [
              "<div>\n",
              "<style scoped>\n",
              "    .dataframe tbody tr th:only-of-type {\n",
              "        vertical-align: middle;\n",
              "    }\n",
              "\n",
              "    .dataframe tbody tr th {\n",
              "        vertical-align: top;\n",
              "    }\n",
              "\n",
              "    .dataframe thead th {\n",
              "        text-align: right;\n",
              "    }\n",
              "</style>\n",
              "<table border=\"1\" class=\"dataframe\">\n",
              "  <thead>\n",
              "    <tr style=\"text-align: right;\">\n",
              "      <th></th>\n",
              "      <th>0</th>\n",
              "      <th>1</th>\n",
              "      <th>2</th>\n",
              "      <th>3</th>\n",
              "      <th>4</th>\n",
              "      <th>5</th>\n",
              "      <th>6</th>\n",
              "      <th>7</th>\n",
              "      <th>8</th>\n",
              "      <th>9</th>\n",
              "      <th>0</th>\n",
              "      <th>1</th>\n",
              "      <th>2</th>\n",
              "      <th>3</th>\n",
              "      <th>4</th>\n",
              "      <th>5</th>\n",
              "      <th>6</th>\n",
              "      <th>7</th>\n",
              "      <th>8</th>\n",
              "      <th>Mushroom_Class</th>\n",
              "    </tr>\n",
              "  </thead>\n",
              "  <tbody>\n",
              "    <tr>\n",
              "      <th>0</th>\n",
              "      <td>1</td>\n",
              "      <td>0</td>\n",
              "      <td>0</td>\n",
              "      <td>0</td>\n",
              "      <td>0</td>\n",
              "      <td>0</td>\n",
              "      <td>0</td>\n",
              "      <td>0</td>\n",
              "      <td>0</td>\n",
              "      <td>0</td>\n",
              "      <td>0</td>\n",
              "      <td>0</td>\n",
              "      <td>0</td>\n",
              "      <td>0</td>\n",
              "      <td>0</td>\n",
              "      <td>0</td>\n",
              "      <td>0</td>\n",
              "      <td>1</td>\n",
              "      <td>0</td>\n",
              "      <td>1</td>\n",
              "    </tr>\n",
              "    <tr>\n",
              "      <th>1</th>\n",
              "      <td>0</td>\n",
              "      <td>0</td>\n",
              "      <td>0</td>\n",
              "      <td>0</td>\n",
              "      <td>0</td>\n",
              "      <td>0</td>\n",
              "      <td>0</td>\n",
              "      <td>0</td>\n",
              "      <td>0</td>\n",
              "      <td>1</td>\n",
              "      <td>1</td>\n",
              "      <td>0</td>\n",
              "      <td>0</td>\n",
              "      <td>0</td>\n",
              "      <td>0</td>\n",
              "      <td>0</td>\n",
              "      <td>0</td>\n",
              "      <td>0</td>\n",
              "      <td>0</td>\n",
              "      <td>0</td>\n",
              "    </tr>\n",
              "    <tr>\n",
              "      <th>2</th>\n",
              "      <td>0</td>\n",
              "      <td>0</td>\n",
              "      <td>0</td>\n",
              "      <td>0</td>\n",
              "      <td>0</td>\n",
              "      <td>0</td>\n",
              "      <td>0</td>\n",
              "      <td>0</td>\n",
              "      <td>1</td>\n",
              "      <td>0</td>\n",
              "      <td>0</td>\n",
              "      <td>1</td>\n",
              "      <td>0</td>\n",
              "      <td>0</td>\n",
              "      <td>0</td>\n",
              "      <td>0</td>\n",
              "      <td>0</td>\n",
              "      <td>0</td>\n",
              "      <td>0</td>\n",
              "      <td>0</td>\n",
              "    </tr>\n",
              "    <tr>\n",
              "      <th>3</th>\n",
              "      <td>0</td>\n",
              "      <td>0</td>\n",
              "      <td>0</td>\n",
              "      <td>0</td>\n",
              "      <td>0</td>\n",
              "      <td>0</td>\n",
              "      <td>0</td>\n",
              "      <td>0</td>\n",
              "      <td>1</td>\n",
              "      <td>0</td>\n",
              "      <td>0</td>\n",
              "      <td>0</td>\n",
              "      <td>0</td>\n",
              "      <td>0</td>\n",
              "      <td>0</td>\n",
              "      <td>0</td>\n",
              "      <td>0</td>\n",
              "      <td>1</td>\n",
              "      <td>0</td>\n",
              "      <td>1</td>\n",
              "    </tr>\n",
              "    <tr>\n",
              "      <th>4</th>\n",
              "      <td>0</td>\n",
              "      <td>0</td>\n",
              "      <td>0</td>\n",
              "      <td>1</td>\n",
              "      <td>0</td>\n",
              "      <td>0</td>\n",
              "      <td>0</td>\n",
              "      <td>0</td>\n",
              "      <td>0</td>\n",
              "      <td>0</td>\n",
              "      <td>0</td>\n",
              "      <td>0</td>\n",
              "      <td>0</td>\n",
              "      <td>0</td>\n",
              "      <td>0</td>\n",
              "      <td>0</td>\n",
              "      <td>1</td>\n",
              "      <td>0</td>\n",
              "      <td>0</td>\n",
              "      <td>0</td>\n",
              "    </tr>\n",
              "  </tbody>\n",
              "</table>\n",
              "</div>"
            ],
            "text/plain": [
              "   0  1  2  3  4  5  6  7  8  9  0  1  2  3  4  5  6  7  8  Mushroom_Class\n",
              "0  1  0  0  0  0  0  0  0  0  0  0  0  0  0  0  0  0  1  0               1\n",
              "1  0  0  0  0  0  0  0  0  0  1  1  0  0  0  0  0  0  0  0               0\n",
              "2  0  0  0  0  0  0  0  0  1  0  0  1  0  0  0  0  0  0  0               0\n",
              "3  0  0  0  0  0  0  0  0  1  0  0  0  0  0  0  0  0  1  0               1\n",
              "4  0  0  0  1  0  0  0  0  0  0  0  0  0  0  0  0  1  0  0               0"
            ]
          },
          "metadata": {}
        }
      ]
    },
    {
      "cell_type": "code",
      "source": "# counting data shapes. result = 8124 rows and 20 columns\nmushroom_data.shape",
      "metadata": {},
      "execution_count": 24,
      "outputs": [
        {
          "execution_count": 24,
          "output_type": "execute_result",
          "data": {
            "text/plain": [
              "(8124, 20)"
            ]
          },
          "metadata": {}
        }
      ]
    },
    {
      "cell_type": "code",
      "source": "x = mushroom_data.iloc[:, :-1].values # defining x values for training model\ny = mushroom_data.iloc[:, 1].values # defining y value for training model\nX_train, X_test, Y_train, Y_test = ttsplit(x,y, random_state=1)",
      "metadata": {},
      "execution_count": 25,
      "outputs": []
    },
    {
      "cell_type": "code",
      "source": "print(X_train.shape)\nprint(X_test.shape)",
      "metadata": {},
      "execution_count": 26,
      "outputs": [
        {
          "name": "stdout",
          "output_type": "stream",
          "text": "(6093, 19)\n\n(2031, 19)\n"
        }
      ]
    },
    {
      "cell_type": "code",
      "source": "print(Y_train.shape)\nprint(Y_test.shape)",
      "metadata": {},
      "execution_count": 27,
      "outputs": [
        {
          "name": "stdout",
          "output_type": "stream",
          "text": "(6093,)\n\n(2031,)\n"
        }
      ]
    },
    {
      "cell_type": "code",
      "source": "lr = sklearn.linear_model.LinearRegression()\nlr.fit(X_train, Y_train)\ny_pred = lr.predict(X_test)\nt = [1,0]\np = [1,0]\nprint(sklearn.metrics.mean_absolute_error(t,p))\nprint(sklearn.metrics.mean_squared_error(t, p))\nprint(np.sqrt(sklearn.metrics.mean_squared_error(t, p)))",
      "metadata": {},
      "execution_count": 28,
      "outputs": [
        {
          "name": "stdout",
          "output_type": "stream",
          "text": "0.0\n\n0.0\n\n0.0\n"
        }
      ]
    },
    {
      "cell_type": "code",
      "source": "print(np.sqrt(metrics.mean_squared_error(Y_test, y_pred)))",
      "metadata": {},
      "execution_count": 29,
      "outputs": [
        {
          "name": "stdout",
          "output_type": "stream",
          "text": "2.040336575497588e-15\n"
        }
      ]
    },
    {
      "cell_type": "code",
      "source": "# Train and Test with \"CAP COLOR\" feature\nX = mushroom_data.iloc[:, 0:9].values\nY = mushroom_data.iloc[:, 1].values\n\nX_train, X_test, Y_train, Y_test = sklearn.model_selection.train_test_split(X, Y, random_state=1)\nlr.fit(X_train, Y_train)\nY_pred = lr.predict(X_test)\n\nprint(np.sqrt(metrics.mean_squared_error(Y_test, Y_pred)))",
      "metadata": {},
      "execution_count": 30,
      "outputs": [
        {
          "name": "stdout",
          "output_type": "stream",
          "text": "2.133205248004342e-15\n"
        }
      ]
    },
    {
      "cell_type": "code",
      "source": "# Train and Test with \"ODOR\" feature \nX = mushroom_data.iloc[:, 10:18].values\nY = mushroom_data.iloc[:, 1].values\n\nX_train, X_test, Y_train, Y_test = sklearn.model_selection.train_test_split(X, Y, random_state=1)\nlr.fit(X_train, Y_train)\nY_pred = lr.predict(X_test)\n\nprint(np.sqrt(metrics.mean_squared_error(Y_test, Y_pred)))",
      "metadata": {},
      "execution_count": 32,
      "outputs": [
        {
          "name": "stdout",
          "output_type": "stream",
          "text": "0.14928001774973673\n"
        }
      ]
    },
    {
      "cell_type": "markdown",
      "source": "We can use the ODOR feature to predict edible or poisonous mushroom because the square root is less than COLOR error. And less error means a better or more accurate prediction.",
      "metadata": {}
    }
  ]
}